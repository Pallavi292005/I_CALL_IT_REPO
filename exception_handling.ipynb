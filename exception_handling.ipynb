{
  "nbformat": 4,
  "nbformat_minor": 0,
  "metadata": {
    "colab": {
      "provenance": [],
      "authorship_tag": "ABX9TyNLoHUELcIzg3CUUbAaUQ7+",
      "include_colab_link": true
    },
    "kernelspec": {
      "name": "python3",
      "display_name": "Python 3"
    },
    "language_info": {
      "name": "python"
    }
  },
  "cells": [
    {
      "cell_type": "markdown",
      "metadata": {
        "id": "view-in-github",
        "colab_type": "text"
      },
      "source": [
        "<a href=\"https://colab.research.google.com/github/Pallavi292005/I_CALL_IT_REPO/blob/main/exception_handling.ipynb\" target=\"_parent\"><img src=\"https://colab.research.google.com/assets/colab-badge.svg\" alt=\"Open In Colab\"/></a>"
      ]
    },
    {
      "cell_type": "code",
      "execution_count": null,
      "metadata": {
        "colab": {
          "base_uri": "https://localhost:8080/"
        },
        "id": "ROGjY_eUWvV8",
        "outputId": "d4016737-00ab-4917-fa77-0c6b78223ab2"
      },
      "outputs": [
        {
          "output_type": "stream",
          "name": "stdout",
          "text": [
            "10\n",
            "1.0\n",
            "not possible\n",
            "2\n"
          ]
        }
      ],
      "source": [
        "print(5 + 5)\n",
        "print(5 / 5)\n",
        "\n",
        "try:\n",
        "    print(5 / 0)\n",
        "except ZeroDivisionError:\n",
        "    print(\"not possible\")\n",
        "\n",
        "print(1 + 1)"
      ]
    },
    {
      "cell_type": "code",
      "source": [
        "try:\n",
        "    numerator = float(input(\"Enter the numerator: \"))\n",
        "    denominator = float(input(\"Enter the denominator: \"))\n",
        "\n",
        "    if denominator == 0:\n",
        "        raise ZeroDivisionError(\"Error: Denominator cannot be zero.\")\n",
        "\n",
        "    quotient = numerator / denominator\n",
        "    print(\"Quotient:\", quotient)\n",
        "\n",
        "except ValueError:\n",
        "    print(\"Invalid input. Please enter numeric values.\")\n",
        "except ZeroDivisionError as e:\n",
        "    print(e)"
      ],
      "metadata": {
        "colab": {
          "base_uri": "https://localhost:8080/"
        },
        "id": "89u5ZcTeX35L",
        "outputId": "e41560ea-122d-43c8-8a40-10ea5197e064"
      },
      "execution_count": null,
      "outputs": [
        {
          "output_type": "stream",
          "name": "stdout",
          "text": [
            "Enter the numerator: 4\n",
            "Enter the denominator: 0\n",
            "Error: Denominator cannot be zero.\n"
          ]
        }
      ]
    },
    {
      "cell_type": "code",
      "source": [
        "inputs = [1,0]\n",
        "print(\"X Y | X OR Y\")\n",
        "for x in inputs:\n",
        "    for y in inputs:\n",
        "      output=x or y\n",
        "      print(f\"{x} {y} | {output}\")"
      ],
      "metadata": {
        "colab": {
          "base_uri": "https://localhost:8080/"
        },
        "id": "KBO7U8lobkOe",
        "outputId": "69b52970-0f44-4189-eee5-964a997e44f4"
      },
      "execution_count": null,
      "outputs": [
        {
          "output_type": "stream",
          "name": "stdout",
          "text": [
            "X Y | X OR Y\n",
            "1 1 | 1\n",
            "1 0 | 1\n",
            "0 1 | 1\n",
            "0 0 | 0\n"
          ]
        }
      ]
    },
    {
      "cell_type": "code",
      "source": [
        "inputs=[1,0,1]\n",
        "print(\"X Y Z | X OR Y NAND Z\")\n",
        "for x in inputs:\n",
        "    for y in inputs:\n",
        "        for z in inputs:\n",
        "            output=(x or y) and not z\n",
        "            print(f\"{x} {y} {z} | {output}\")"
      ],
      "metadata": {
        "colab": {
          "base_uri": "https://localhost:8080/"
        },
        "id": "Z3t2eczYeY8i",
        "outputId": "7857eb57-7e29-40e8-b612-3e1cb73dc807"
      },
      "execution_count": null,
      "outputs": [
        {
          "output_type": "stream",
          "name": "stdout",
          "text": [
            "X Y Z | X OR Y NAND Z\n",
            "1 1 1 | False\n",
            "1 1 0 | True\n",
            "1 1 1 | False\n",
            "1 0 1 | False\n",
            "1 0 0 | True\n",
            "1 0 1 | False\n",
            "1 1 1 | False\n",
            "1 1 0 | True\n",
            "1 1 1 | False\n",
            "0 1 1 | False\n",
            "0 1 0 | True\n",
            "0 1 1 | False\n",
            "0 0 1 | 0\n",
            "0 0 0 | 0\n",
            "0 0 1 | 0\n",
            "0 1 1 | False\n",
            "0 1 0 | True\n",
            "0 1 1 | False\n",
            "1 1 1 | False\n",
            "1 1 0 | True\n",
            "1 1 1 | False\n",
            "1 0 1 | False\n",
            "1 0 0 | True\n",
            "1 0 1 | False\n",
            "1 1 1 | False\n",
            "1 1 0 | True\n",
            "1 1 1 | False\n"
          ]
        }
      ]
    },
    {
      "cell_type": "code",
      "source": [
        "inputs=[1,0,1]\n",
        "print(\"X Y Z | X OR Y XOR Z\")\n",
        "for x in inputs:\n",
        "    for y in inputs:\n",
        "        for z in inputs:\n",
        "            output=(x or y) or not z\n",
        "            print(f\"{x} {y} {z} | {output}\")"
      ],
      "metadata": {
        "colab": {
          "base_uri": "https://localhost:8080/"
        },
        "id": "OaVTjhQofkIf",
        "outputId": "752ba099-3d7b-4f5b-d2de-31fb8b7fd3c2"
      },
      "execution_count": null,
      "outputs": [
        {
          "output_type": "stream",
          "name": "stdout",
          "text": [
            "X Y Z | X OR Y XOR Z\n",
            "1 1 1 | 1\n",
            "1 1 0 | 1\n",
            "1 1 1 | 1\n",
            "1 0 1 | 1\n",
            "1 0 0 | 1\n",
            "1 0 1 | 1\n",
            "1 1 1 | 1\n",
            "1 1 0 | 1\n",
            "1 1 1 | 1\n",
            "0 1 1 | 1\n",
            "0 1 0 | 1\n",
            "0 1 1 | 1\n",
            "0 0 1 | False\n",
            "0 0 0 | True\n",
            "0 0 1 | False\n",
            "0 1 1 | 1\n",
            "0 1 0 | 1\n",
            "0 1 1 | 1\n",
            "1 1 1 | 1\n",
            "1 1 0 | 1\n",
            "1 1 1 | 1\n",
            "1 0 1 | 1\n",
            "1 0 0 | 1\n",
            "1 0 1 | 1\n",
            "1 1 1 | 1\n",
            "1 1 0 | 1\n",
            "1 1 1 | 1\n"
          ]
        }
      ]
    }
  ]
}